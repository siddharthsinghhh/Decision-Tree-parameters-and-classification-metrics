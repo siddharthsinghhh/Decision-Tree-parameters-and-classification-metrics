{
 "cells": [
  {
   "cell_type": "markdown",
   "metadata": {},
   "source": [
    "# Lab 4 # Decision Tree parameters and classification metrics.\n",
    "\n",
    "Group members:\n",
    "- Name (ID): Sai Sahas Elluru (0753808)\n",
    "- Name (ID): Hari Sai Palem (0747511)\n",
    "- Name (ID): Siddharth Singh (0756590)\n",
    "\n",
    "In this lab, the main objective is to understand the parameters of the Decision Tree model and how to evaluate the model based on the different metrics we studied.\n",
    "\n",
    "By the end of this lab you should have:\n",
    "\n",
    "- a good understanding of the effect of the different parameters in the Decision Tree classifier.\n",
    "- gained experience with building ROC curves, AUC and ploting the results."
   ]
  },
  {
   "cell_type": "markdown",
   "metadata": {},
   "source": [
    "### Grading\n",
    "\n",
    "This lab will be graded as follows:\n",
    "- 50% for comments/text\n",
    "    - Half of the lab grade will come from an assessment of the comments/text included in your Jupyter notebook submission\n",
    "        - The comments/text should explain clearly what you are doing and why it's necessary to achieve the objective\n",
    "        - You should think of the comments/text as if you were creating a tutorial/blog to guide someone through your work \n",
    "- 50% for code\n",
    "    - Half of the lab grade will come from an assessment of your code\n",
    "        - The code in the notebook should use base python, NumPy, Pandas, sklearn, and/or matplotlib. \n",
    "        - All code cells should run error free\n",
    "        - The code does not have to be optimized or pretty: it needs to be functional for the specific task"
   ]
  },
  {
   "cell_type": "markdown",
   "metadata": {},
   "source": [
    "### Submition\n",
    "\n",
    "This is a **group submission** lab, so work in the same groups that you are already assigned to.\n",
    "\n",
    "You should submit the following:\n",
    "- a well-commented Jupyter notebook\n",
    "- the original dataset used as a .csv file"
   ]
  },
  {
   "cell_type": "markdown",
   "metadata": {},
   "source": [
    "### Instructions\n",
    "Use the same dataset that you used for the marked lab #3. If your dataset is bigger than 1,000 rows, you can truncate the dataset to only 1,000 rows to avoid CPU performance issues and explain how you performed the cut.\n",
    "\n",
    "Make sure to explain your steps, results and observations at each step.\n",
    "\n",
    "Use the last 3 digits from any of your group team members user ID as a random state variable where applicable and do implement the following:"
   ]
  },
  {
   "cell_type": "markdown",
   "metadata": {},
   "source": [
    "1- Using nested loops and with a split ratio of 20 testing:80 training, try to find the best combined parameters that provide the best accuracy for the testing dataset from:\n",
    "- max_depth values between 3 and 4 with a step of 1, so possible values are [3,4].\n",
    "- max_leaf_nodes values between 10 and 15 with a step of 5, so possible values are [10,15].\n",
    "- min_samples_leaf with values between 10 and 20 with a step of 5, so possible values are [10,15,20].\n",
    "\n",
    "Plot your results for the testing and training accuracies for each step.\n",
    "\n",
    "Note: you should end up with 12 plots for the above parameter possible valules."
   ]
  },
  {
   "cell_type": "code",
   "execution_count": 1,
   "metadata": {},
   "outputs": [],
   "source": [
    "import os\n",
    "os.chdir('C:\\\\Users\\\\rohit\\\\Downloads\\\\3217_5288_bundle_archive')"
   ]
  },
  {
   "cell_type": "code",
   "execution_count": 2,
   "metadata": {},
   "outputs": [],
   "source": [
    "import pandas as pd\n",
    "import numpy as np\n",
    "import matplotlib.pyplot as plt\n"
   ]
  },
  {
   "cell_type": "code",
   "execution_count": 3,
   "metadata": {},
   "outputs": [],
   "source": [
    "data = pd.read_csv('baseball.csv')"
   ]
  },
  {
   "cell_type": "code",
   "execution_count": 4,
   "metadata": {},
   "outputs": [
    {
     "data": {
      "text/plain": [
       "(1000, 10)"
      ]
     },
     "execution_count": 4,
     "metadata": {},
     "output_type": "execute_result"
    }
   ],
   "source": [
    "data = data.drop('RankSeason',axis=True)\n",
    "data = data.drop('RankPlayoffs', axis=True)\n",
    "data = data.drop('OOBP',axis=True)\n",
    "data = data.drop('OSLG',axis=True)\n",
    "data = data.drop('Team',axis=True)\n",
    "data = data.dropna()\n",
    "data = data[0:1000]\n",
    "data.shape"
   ]
  },
  {
   "cell_type": "code",
   "execution_count": 5,
   "metadata": {},
   "outputs": [
    {
     "data": {
      "text/plain": [
       "League      0\n",
       "Year        0\n",
       "RS          0\n",
       "RA          0\n",
       "W           0\n",
       "OBP         0\n",
       "SLG         0\n",
       "BA          0\n",
       "Playoffs    0\n",
       "G           0\n",
       "dtype: int64"
      ]
     },
     "execution_count": 5,
     "metadata": {},
     "output_type": "execute_result"
    }
   ],
   "source": [
    "data.isnull().sum()"
   ]
  },
  {
   "cell_type": "code",
   "execution_count": 6,
   "metadata": {},
   "outputs": [
    {
     "data": {
      "text/html": [
       "<div>\n",
       "<style scoped>\n",
       "    .dataframe tbody tr th:only-of-type {\n",
       "        vertical-align: middle;\n",
       "    }\n",
       "\n",
       "    .dataframe tbody tr th {\n",
       "        vertical-align: top;\n",
       "    }\n",
       "\n",
       "    .dataframe thead th {\n",
       "        text-align: right;\n",
       "    }\n",
       "</style>\n",
       "<table border=\"1\" class=\"dataframe\">\n",
       "  <thead>\n",
       "    <tr style=\"text-align: right;\">\n",
       "      <th></th>\n",
       "      <th>NL</th>\n",
       "    </tr>\n",
       "  </thead>\n",
       "  <tbody>\n",
       "    <tr>\n",
       "      <th>0</th>\n",
       "      <td>1</td>\n",
       "    </tr>\n",
       "    <tr>\n",
       "      <th>1</th>\n",
       "      <td>1</td>\n",
       "    </tr>\n",
       "    <tr>\n",
       "      <th>2</th>\n",
       "      <td>0</td>\n",
       "    </tr>\n",
       "    <tr>\n",
       "      <th>3</th>\n",
       "      <td>0</td>\n",
       "    </tr>\n",
       "    <tr>\n",
       "      <th>4</th>\n",
       "      <td>1</td>\n",
       "    </tr>\n",
       "  </tbody>\n",
       "</table>\n",
       "</div>"
      ],
      "text/plain": [
       "   NL\n",
       "0   1\n",
       "1   1\n",
       "2   0\n",
       "3   0\n",
       "4   1"
      ]
     },
     "execution_count": 6,
     "metadata": {},
     "output_type": "execute_result"
    }
   ],
   "source": [
    "dummies = pd.get_dummies(data.League,drop_first=True)\n",
    "dummies.head()"
   ]
  },
  {
   "cell_type": "code",
   "execution_count": 7,
   "metadata": {},
   "outputs": [
    {
     "data": {
      "text/html": [
       "<div>\n",
       "<style scoped>\n",
       "    .dataframe tbody tr th:only-of-type {\n",
       "        vertical-align: middle;\n",
       "    }\n",
       "\n",
       "    .dataframe tbody tr th {\n",
       "        vertical-align: top;\n",
       "    }\n",
       "\n",
       "    .dataframe thead th {\n",
       "        text-align: right;\n",
       "    }\n",
       "</style>\n",
       "<table border=\"1\" class=\"dataframe\">\n",
       "  <thead>\n",
       "    <tr style=\"text-align: right;\">\n",
       "      <th></th>\n",
       "      <th>Year</th>\n",
       "      <th>RS</th>\n",
       "      <th>RA</th>\n",
       "      <th>W</th>\n",
       "      <th>OBP</th>\n",
       "      <th>SLG</th>\n",
       "      <th>BA</th>\n",
       "      <th>Playoffs</th>\n",
       "      <th>G</th>\n",
       "      <th>NL</th>\n",
       "    </tr>\n",
       "  </thead>\n",
       "  <tbody>\n",
       "    <tr>\n",
       "      <th>0</th>\n",
       "      <td>2012</td>\n",
       "      <td>734</td>\n",
       "      <td>688</td>\n",
       "      <td>81</td>\n",
       "      <td>0.328</td>\n",
       "      <td>0.418</td>\n",
       "      <td>0.259</td>\n",
       "      <td>0</td>\n",
       "      <td>162</td>\n",
       "      <td>1</td>\n",
       "    </tr>\n",
       "    <tr>\n",
       "      <th>1</th>\n",
       "      <td>2012</td>\n",
       "      <td>700</td>\n",
       "      <td>600</td>\n",
       "      <td>94</td>\n",
       "      <td>0.320</td>\n",
       "      <td>0.389</td>\n",
       "      <td>0.247</td>\n",
       "      <td>1</td>\n",
       "      <td>162</td>\n",
       "      <td>1</td>\n",
       "    </tr>\n",
       "    <tr>\n",
       "      <th>2</th>\n",
       "      <td>2012</td>\n",
       "      <td>712</td>\n",
       "      <td>705</td>\n",
       "      <td>93</td>\n",
       "      <td>0.311</td>\n",
       "      <td>0.417</td>\n",
       "      <td>0.247</td>\n",
       "      <td>1</td>\n",
       "      <td>162</td>\n",
       "      <td>0</td>\n",
       "    </tr>\n",
       "    <tr>\n",
       "      <th>3</th>\n",
       "      <td>2012</td>\n",
       "      <td>734</td>\n",
       "      <td>806</td>\n",
       "      <td>69</td>\n",
       "      <td>0.315</td>\n",
       "      <td>0.415</td>\n",
       "      <td>0.260</td>\n",
       "      <td>0</td>\n",
       "      <td>162</td>\n",
       "      <td>0</td>\n",
       "    </tr>\n",
       "    <tr>\n",
       "      <th>4</th>\n",
       "      <td>2012</td>\n",
       "      <td>613</td>\n",
       "      <td>759</td>\n",
       "      <td>61</td>\n",
       "      <td>0.302</td>\n",
       "      <td>0.378</td>\n",
       "      <td>0.240</td>\n",
       "      <td>0</td>\n",
       "      <td>162</td>\n",
       "      <td>1</td>\n",
       "    </tr>\n",
       "  </tbody>\n",
       "</table>\n",
       "</div>"
      ],
      "text/plain": [
       "   Year   RS   RA   W    OBP    SLG     BA  Playoffs    G  NL\n",
       "0  2012  734  688  81  0.328  0.418  0.259         0  162   1\n",
       "1  2012  700  600  94  0.320  0.389  0.247         1  162   1\n",
       "2  2012  712  705  93  0.311  0.417  0.247         1  162   0\n",
       "3  2012  734  806  69  0.315  0.415  0.260         0  162   0\n",
       "4  2012  613  759  61  0.302  0.378  0.240         0  162   1"
      ]
     },
     "execution_count": 7,
     "metadata": {},
     "output_type": "execute_result"
    }
   ],
   "source": [
    "data = pd.concat([data,dummies],axis=1)\n",
    "data = data.drop('League',axis=1)\n",
    "data.head()"
   ]
  },
  {
   "cell_type": "code",
   "execution_count": 8,
   "metadata": {},
   "outputs": [],
   "source": [
    "x = data.drop('Playoffs',axis=True)\n",
    "y = data.iloc[:,7]"
   ]
  },
  {
   "cell_type": "code",
   "execution_count": 9,
   "metadata": {},
   "outputs": [
    {
     "data": {
      "text/plain": [
       "(1000, 9)"
      ]
     },
     "execution_count": 9,
     "metadata": {},
     "output_type": "execute_result"
    }
   ],
   "source": [
    "x.shape"
   ]
  },
  {
   "cell_type": "code",
   "execution_count": 10,
   "metadata": {},
   "outputs": [
    {
     "data": {
      "text/plain": [
       "(1000,)"
      ]
     },
     "execution_count": 10,
     "metadata": {},
     "output_type": "execute_result"
    }
   ],
   "source": [
    "y.shape"
   ]
  },
  {
   "cell_type": "markdown",
   "metadata": {},
   "source": [
    "Till here we have used pandas to get the data ready in the required format. Making sure there are no nulls and using dummies to convert string of categorical in to int of Categorical. We also splitting the data into x and y i.e. x consists of feature variables and y consists of target variable."
   ]
  },
  {
   "cell_type": "code",
   "execution_count": 11,
   "metadata": {},
   "outputs": [],
   "source": [
    "from sklearn.model_selection import train_test_split\n",
    "x_train, x_test, y_train, y_test = train_test_split(x,y,test_size=0.20, random_state = 590)"
   ]
  },
  {
   "cell_type": "code",
   "execution_count": 12,
   "metadata": {},
   "outputs": [],
   "source": [
    "from sklearn.tree import DecisionTreeClassifier\n",
    "dt = DecisionTreeClassifier()\n",
    "from sklearn.metrics import accuracy_score"
   ]
  },
  {
   "cell_type": "markdown",
   "metadata": {},
   "source": [
    "Using sklearn we have split the data into train and test in the ratio of 80:20. We have also determined the decision tree classifier and stored it into a variable 'dt'"
   ]
  },
  {
   "cell_type": "code",
   "execution_count": 13,
   "metadata": {},
   "outputs": [
    {
     "name": "stdout",
     "output_type": "stream",
     "text": [
      "acc_test value for a, b, c =  [3, 10, 10] is: 0.9\n",
      "acc_train value for a, b, c =  [3, 10, 10] is: 0.93\n"
     ]
    },
    {
     "data": {
      "image/png": "[encoded data removed]",
      "text/plain": [
       "<Figure size 432x288 with 1 Axes>"
      ]
     },
     "metadata": {
      "needs_background": "light"
     },
     "output_type": "display_data"
    },
    {
     "name": "stdout",
     "output_type": "stream",
     "text": [
      "acc_test value for a, b, c =  [3, 10, 15] is: 0.9\n",
      "acc_train value for a, b, c =  [3, 10, 15] is: 0.92625\n"
     ]
    },
    {
     "data": {
      "image/png": "[encoded data removed]",
      "text/plain": [
       "<Figure size 432x288 with 1 Axes>"
      ]
     },
     "metadata": {
      "needs_background": "light"
     },
     "output_type": "display_data"
    },
    {
     "name": "stdout",
     "output_type": "stream",
     "text": [
      "acc_test value for a, b, c =  [3, 10, 20] is: 0.9\n",
      "acc_train value for a, b, c =  [3, 10, 20] is: 0.92625\n"
     ]
    },
    {
     "data": {
      "image/png": "[encoded data removed]",
      "text/plain": [
       "<Figure size 432x288 with 1 Axes>"
      ]
     },
     "metadata": {
      "needs_background": "light"
     },
     "output_type": "display_data"
    },
    {
     "name": "stdout",
     "output_type": "stream",
     "text": [
      "acc_test value for a, b, c =  [3, 15, 10] is: 0.9\n",
      "acc_train value for a, b, c =  [3, 15, 10] is: 0.93\n"
     ]
    },
    {
     "data": {
      "image/png": "[encoded data removed]",
      "text/plain": [
       "<Figure size 432x288 with 1 Axes>"
      ]
     },
     "metadata": {
      "needs_background": "light"
     },
     "output_type": "display_data"
    },
    {
     "name": "stdout",
     "output_type": "stream",
     "text": [
      "acc_test value for a, b, c =  [3, 15, 15] is: 0.9\n",
      "acc_train value for a, b, c =  [3, 15, 15] is: 0.92625\n"
     ]
    },
    {
     "data": {
      "image/png": "[encoded data removed]",
      "text/plain": [
       "<Figure size 432x288 with 1 Axes>"
      ]
     },
     "metadata": {
      "needs_background": "light"
     },
     "output_type": "display_data"
    },
    {
     "name": "stdout",
     "output_type": "stream",
     "text": [
      "acc_test value for a, b, c =  [3, 15, 20] is: 0.9\n",
      "acc_train value for a, b, c =  [3, 15, 20] is: 0.92625\n"
     ]
    },
    {
     "data": {
      "image/png": "[encoded data removed]",
      "text/plain": [
       "<Figure size 432x288 with 1 Axes>"
      ]
     },
     "metadata": {
      "needs_background": "light"
     },
     "output_type": "display_data"
    },
    {
     "name": "stdout",
     "output_type": "stream",
     "text": [
      "acc_test value for a, b, c =  [4, 10, 10] is: 0.885\n",
      "acc_train value for a, b, c =  [4, 10, 10] is: 0.9375\n"
     ]
    },
    {
     "data": {
      "image/png": "[encoded data removed]",
      "text/plain": [
       "<Figure size 432x288 with 1 Axes>"
      ]
     },
     "metadata": {
      "needs_background": "light"
     },
     "output_type": "display_data"
    },
    {
     "name": "stdout",
     "output_type": "stream",
     "text": [
      "acc_test value for a, b, c =  [4, 10, 15] is: 0.9\n",
      "acc_train value for a, b, c =  [4, 10, 15] is: 0.935\n"
     ]
    },
    {
     "data": {
      "image/png": "[encoded data removed]",
      "text/plain": [
       "<Figure size 432x288 with 1 Axes>"
      ]
     },
     "metadata": {
      "needs_background": "light"
     },
     "output_type": "display_data"
    },
    {
     "name": "stdout",
     "output_type": "stream",
     "text": [
      "acc_test value for a, b, c =  [4, 10, 20] is: 0.89\n",
      "acc_train value for a, b, c =  [4, 10, 20] is: 0.9325\n"
     ]
    },
    {
     "data": {
      "image/png": "[encoded data removed]",
      "text/plain": [
       "<Figure size 432x288 with 1 Axes>"
      ]
     },
     "metadata": {
      "needs_background": "light"
     },
     "output_type": "display_data"
    },
    {
     "name": "stdout",
     "output_type": "stream",
     "text": [
      "acc_test value for a, b, c =  [4, 15, 10] is: 0.885\n",
      "acc_train value for a, b, c =  [4, 15, 10] is: 0.9375\n"
     ]
    },
    {
     "data": {
      "image/png": "[encoded data removed]",
      "text/plain": [
       "<Figure size 432x288 with 1 Axes>"
      ]
     },
     "metadata": {
      "needs_background": "light"
     },
     "output_type": "display_data"
    },
    {
     "name": "stdout",
     "output_type": "stream",
     "text": [
      "acc_test value for a, b, c =  [4, 15, 15] is: 0.9\n",
      "acc_train value for a, b, c =  [4, 15, 15] is: 0.935\n"
     ]
    },
    {
     "data": {
      "image/png": "[encoded data removed]",
      "text/plain": [
       "<Figure size 432x288 with 1 Axes>"
      ]
     },
     "metadata": {
      "needs_background": "light"
     },
     "output_type": "display_data"
    },
    {
     "name": "stdout",
     "output_type": "stream",
     "text": [
      "acc_test value for a, b, c =  [4, 15, 20] is: 0.89\n",
      "acc_train value for a, b, c =  [4, 15, 20] is: 0.9325\n"
     ]
    },
    {
     "data": {
      "image/png": "[encoded data removed]",
      "text/plain": [
       "<Figure size 432x288 with 1 Axes>"
      ]
     },
     "metadata": {
      "needs_background": "light"
     },
     "output_type": "display_data"
    }
   ],
   "source": [
    "accuracy_test = []\n",
    "accuracy_train = []\n",
    "maxdepth = [3,4]\n",
    "maxleaf = [10,15]\n",
    "minsampleaf = [10,15,20]\n",
    "for a in maxdepth:\n",
    "    for b in maxleaf:\n",
    "        for c in minsampleaf:\n",
    "            dt = DecisionTreeClassifier(max_depth = a, max_leaf_nodes = b, min_samples_leaf = c)\n",
    "            dt.fit(x_train, y_train)  #fit the model\n",
    "            y_pred = dt.predict(x_test)\n",
    "            testaccuracy = accuracy_score(y_test,y_pred)  \n",
    "            accuracy_test.append(testaccuracy)\n",
    "            print( 'acc_test value for a, b, c = ' , [a, b, c] , 'is:', testaccuracy)\n",
    "            y_pred2 = dt.predict(x_train)\n",
    "            trainaccuracy = accuracy_score(y_train,y_pred2)\n",
    "            accuracy_train.append(trainaccuracy)\n",
    "            print( 'acc_train value for a, b, c = ' , [a, b, c] , 'is:', trainaccuracy)\n",
    "            objects = ('Test Accuracy', 'Train Accuracy')\n",
    "            y = np.arange(len(objects))\n",
    "            Accuracy = [testaccuracy, trainaccuracy]\n",
    "            plt.bar(y, Accuracy, width = 0.6, align = 'center', alpha=0.4, color = ['red', 'green'])\n",
    "            for index, value in enumerate(Accuracy): \n",
    "                plt.text(index, value, str(value), horizontalalignment='center', verticalalignment='top', alpha = 1.0)\n",
    "            plt.xticks(y, objects)\n",
    "            plt.ylabel('Accuracies')\n",
    "            plt.title('Accuracy Plot')\n",
    "            plt.show()"
   ]
  },
  {
   "cell_type": "markdown",
   "metadata": {},
   "source": [
    "We are using nested for loops to determine the best combomiation of max_depth, max_leaf_nodes, min_sample_nodes of the tree by calculating the Testing accuracy and training accuracy. Plot those results will give better understanding of each combination. We plotted test accuracy and train accuracy for each combination using bar chart from matplotlib. Using different parameters like alpha, alignment, color we have made the graph more simpler to understand. Using plt.text we have labeled the values on top the bars."
   ]
  },
  {
   "cell_type": "code",
   "execution_count": 14,
   "metadata": {},
   "outputs": [
    {
     "data": {
      "text/plain": [
       "0.9"
      ]
     },
     "execution_count": 14,
     "metadata": {},
     "output_type": "execute_result"
    }
   ],
   "source": [
    "dt = DecisionTreeClassifier(min_samples_leaf = 10, max_depth = 3, max_leaf_nodes = 15)\n",
    "dt.fit(x_train,y_train)\n",
    "yPred = dt.predict(x_test)\n",
    "accuracy_score(y_test,yPred)"
   ]
  },
  {
   "cell_type": "markdown",
   "metadata": {},
   "source": [
    "After examining all the 12 combinations we have picked the combination which has better accuracy."
   ]
  },
  {
   "cell_type": "markdown",
   "metadata": {},
   "source": [
    "2- Explain your plots and results."
   ]
  },
  {
   "cell_type": "markdown",
   "metadata": {},
   "source": [
    "Each parameter of decission tree classifier has significance. Max depth represents how many layers does a tree need to spread. If max_depth is higher then there is a high chance of overfitting vice versa if it is lower then there is a chance that the tree not recognize the impoertance of features. Over here we are comparing max_depth of 3 and 4 we take 3 as our ideal since it lead to high accuracy.\n",
    "\n",
    "max_leaf_nodes determines the tree with max_leaf_nodes in best first fashion. Best nodes are defined as relative reduction in impurity. So we will go for higher max_leaf_nodes. By that condition for max_leaf_node 15 the accuracy is higher.\n",
    "\n",
    "min_sample_leaf: leaf node is a node without any children(without any further splits). This value used to stop split of leafs to certain samples. This reduces overfitting and complexity. By this condition for min_sample_leaf 10 the accuracy is higher.\n",
    "\n",
    "So for the combination max_depth:3, max_leaf_nodes:15, and min_sample_leaf:10 the testing accuracy is 0.9.\n",
    "\n",
    "[max_depth, max_leaf_nodes, min_sample_leafs] = [a, b, c]\n",
    "So for the combos [3,10,10], [3,10,15], [3,10,20], [3,15,10], [3,15,15], [3,15,20], [4,10,15], [4,15,15] has the highest testing accuracies of 0.9 and slight difference in training accuracies. But if we go with high training accuracy we have to select [4,10,15], but the reason for high training accuracy can be because of max_depth. Because high max_depths tends to over recognize the patterns. \n",
    "\n",
    "So by the above stated reasons we select [3,15,10] which has test accuracy 0.9 and train accuracy 0.93.\n",
    "\n",
    "Rest all combos failed in the very first condition of better test accuracy.\n"
   ]
  },
  {
   "cell_type": "code",
   "execution_count": 60,
   "metadata": {},
   "outputs": [],
   "source": [
    "from sklearn.metrics import confusion_matrix\n",
    "from sklearn.metrics import classification_report\n",
    "from sklearn.metrics import roc_auc_score\n",
    "from sklearn.metrics import roc_curve"
   ]
  },
  {
   "cell_type": "markdown",
   "metadata": {},
   "source": [
    "3- Create a for loop that splits the data into testing and training datasets starting from 5:95 ratio until you reach 20:80 ratio with a step of 5, on each step do the following:\n",
    "- Implement the Decision Trees classifier with the three parameters values found in step 1\n",
    "- Calculate and display the Confusion Matrix.\n",
    "- Calculate the AUC and the classification report and display them.\n",
    "- Plot the ROC curve."
   ]
  },
  {
   "cell_type": "code",
   "execution_count": 61,
   "metadata": {},
   "outputs": [
    {
     "name": "stdout",
     "output_type": "stream",
     "text": [
      "confusion matrix for testsize  0.05 is \n",
      " [[36  3]\n",
      " [ 6  5]]\n",
      "classification report for testsize 0.05 is \n",
      "               precision    recall  f1-score   support\n",
      "\n",
      "           0       0.86      0.92      0.89        39\n",
      "           1       0.62      0.45      0.53        11\n",
      "\n",
      "    accuracy                           0.82        50\n",
      "   macro avg       0.74      0.69      0.71        50\n",
      "weighted avg       0.81      0.82      0.81        50\n",
      "\n",
      "auc for  testsize is \n",
      " 0.6888111888111889\n"
     ]
    },
    {
     "data": {
      "image/png": "[encoded data removed]",
      "text/plain": [
       "<Figure size 432x288 with 1 Axes>"
      ]
     },
     "metadata": {
      "needs_background": "light"
     },
     "output_type": "display_data"
    },
    {
     "name": "stdout",
     "output_type": "stream",
     "text": [
      "\n",
      "confusion matrix for testsize  0.05 is \n",
      " [[718  28]\n",
      " [ 39 165]]\n",
      "classification report for testsize  0.05 is \n",
      "               precision    recall  f1-score   support\n",
      "\n",
      "           0       0.95      0.96      0.96       746\n",
      "           1       0.85      0.81      0.83       204\n",
      "\n",
      "    accuracy                           0.93       950\n",
      "   macro avg       0.90      0.89      0.89       950\n",
      "weighted avg       0.93      0.93      0.93       950\n",
      "\n",
      "auc for testsize  0.05 is \n",
      " 0.8856450086737108\n"
     ]
    },
    {
     "data": {
      "image/png": "[encoded data removed]",
      "text/plain": [
       "<Figure size 432x288 with 1 Axes>"
      ]
     },
     "metadata": {
      "needs_background": "light"
     },
     "output_type": "display_data"
    },
    {
     "name": "stdout",
     "output_type": "stream",
     "text": [
      "confusion matrix for testsize  0.1 is \n",
      " [[70  4]\n",
      " [ 7 19]]\n",
      "classification report for testsize 0.1 is \n",
      "               precision    recall  f1-score   support\n",
      "\n",
      "           0       0.91      0.95      0.93        74\n",
      "           1       0.83      0.73      0.78        26\n",
      "\n",
      "    accuracy                           0.89       100\n",
      "   macro avg       0.87      0.84      0.85       100\n",
      "weighted avg       0.89      0.89      0.89       100\n",
      "\n",
      "auc for  testsize is \n",
      " 0.8383575883575884\n"
     ]
    },
    {
     "data": {
      "image/png": "[encoded data removed]",
      "text/plain": [
       "<Figure size 432x288 with 1 Axes>"
      ]
     },
     "metadata": {
      "needs_background": "light"
     },
     "output_type": "display_data"
    },
    {
     "name": "stdout",
     "output_type": "stream",
     "text": [
      "\n",
      "confusion matrix for testsize  0.1 is \n",
      " [[684  27]\n",
      " [ 38 151]]\n",
      "classification report for testsize  0.1 is \n",
      "               precision    recall  f1-score   support\n",
      "\n",
      "           0       0.95      0.96      0.95       711\n",
      "           1       0.85      0.80      0.82       189\n",
      "\n",
      "    accuracy                           0.93       900\n",
      "   macro avg       0.90      0.88      0.89       900\n",
      "weighted avg       0.93      0.93      0.93       900\n",
      "\n",
      "auc for testsize  0.1 is \n",
      " 0.8804835576987476\n"
     ]
    },
    {
     "data": {
      "image/png": "[encoded data removed]",
      "text/plain": [
       "<Figure size 432x288 with 1 Axes>"
      ]
     },
     "metadata": {
      "needs_background": "light"
     },
     "output_type": "display_data"
    },
    {
     "name": "stdout",
     "output_type": "stream",
     "text": [
      "confusion matrix for testsize  0.15 is \n",
      " [[105  12]\n",
      " [  7  26]]\n",
      "classification report for testsize 0.15 is \n",
      "               precision    recall  f1-score   support\n",
      "\n",
      "           0       0.94      0.90      0.92       117\n",
      "           1       0.68      0.79      0.73        33\n",
      "\n",
      "    accuracy                           0.87       150\n",
      "   macro avg       0.81      0.84      0.82       150\n",
      "weighted avg       0.88      0.87      0.88       150\n",
      "\n",
      "auc for  testsize is \n",
      " 0.8426573426573427\n"
     ]
    },
    {
     "data": {
      "image/png": "[encoded data removed]",
      "text/plain": [
       "<Figure size 432x288 with 1 Axes>"
      ]
     },
     "metadata": {
      "needs_background": "light"
     },
     "output_type": "display_data"
    },
    {
     "name": "stdout",
     "output_type": "stream",
     "text": [
      "\n",
      "confusion matrix for testsize  0.15 is \n",
      " [[626  42]\n",
      " [ 17 165]]\n",
      "classification report for testsize  0.15 is \n",
      "               precision    recall  f1-score   support\n",
      "\n",
      "           0       0.97      0.94      0.95       668\n",
      "           1       0.80      0.91      0.85       182\n",
      "\n",
      "    accuracy                           0.93       850\n",
      "   macro avg       0.89      0.92      0.90       850\n",
      "weighted avg       0.94      0.93      0.93       850\n",
      "\n",
      "auc for testsize  0.15 is \n",
      " 0.9218595775482002\n"
     ]
    },
    {
     "data": {
      "image/png": "[encoded data removed]",
      "text/plain": [
       "<Figure size 432x288 with 1 Axes>"
      ]
     },
     "metadata": {
      "needs_background": "light"
     },
     "output_type": "display_data"
    },
    {
     "name": "stdout",
     "output_type": "stream",
     "text": [
      "confusion matrix for testsize  0.2 is \n",
      " [[146  10]\n",
      " [ 10  34]]\n",
      "classification report for testsize 0.2 is \n",
      "               precision    recall  f1-score   support\n",
      "\n",
      "           0       0.94      0.94      0.94       156\n",
      "           1       0.77      0.77      0.77        44\n",
      "\n",
      "    accuracy                           0.90       200\n",
      "   macro avg       0.85      0.85      0.85       200\n",
      "weighted avg       0.90      0.90      0.90       200\n",
      "\n",
      "auc for  testsize is \n",
      " 0.8543123543123543\n"
     ]
    },
    {
     "data": {
      "image/png": "[encoded data removed]",
      "text/plain": [
       "<Figure size 432x288 with 1 Axes>"
      ]
     },
     "metadata": {
      "needs_background": "light"
     },
     "output_type": "display_data"
    },
    {
     "name": "stdout",
     "output_type": "stream",
     "text": [
      "\n",
      "confusion matrix for testsize  0.2 is \n",
      " [[608  21]\n",
      " [ 35 136]]\n",
      "classification report for testsize  0.2 is \n",
      "               precision    recall  f1-score   support\n",
      "\n",
      "           0       0.95      0.97      0.96       629\n",
      "           1       0.87      0.80      0.83       171\n",
      "\n",
      "    accuracy                           0.93       800\n",
      "   macro avg       0.91      0.88      0.89       800\n",
      "weighted avg       0.93      0.93      0.93       800\n",
      "\n",
      "auc for testsize  0.2 is \n",
      " 0.880967654961463\n"
     ]
    },
    {
     "data": {
      "image/png": "[encoded data removed]",
      "text/plain": [
       "<Figure size 432x288 with 1 Axes>"
      ]
     },
     "metadata": {
      "needs_background": "light"
     },
     "output_type": "display_data"
    }
   ],
   "source": [
    "x = data.drop('Playoffs',axis=True)\n",
    "y = data.iloc[:,7]\n",
    "for testsize in [0.05,0.1,0.15,0.20]:\n",
    "    x_train, x_test, y_train, y_test = train_test_split(x,y,test_size=testsize, random_state = 590)    \n",
    "    dt = DecisionTreeClassifier(min_samples_leaf = 10, max_depth = 3, max_leaf_nodes = 10)\n",
    "\n",
    "    dt.fit(x_train, y_train)  #fit the model\n",
    "    y_pred = dt.predict(x_test)\n",
    "    confusion = confusion_matrix(y_test,y_pred)\n",
    "    report =  classification_report(y_test,y_pred)\n",
    "    auc = roc_auc_score(y_test,y_pred)\n",
    "    fpr, tpr, _ = roc_curve(y_test,y_pred)\n",
    "    dtplot = plt.plot(fpr,tpr,label=\"DT Curve\")\n",
    "    plt.xlabel(\"FPR\")\n",
    "    plt.ylabel(\"TPR\")\n",
    "    plt.legend(loc=4)\n",
    "    print( 'confusion matrix for testsize ', testsize, 'is' , '\\n' ,confusion)\n",
    "    print( 'classification report for testsize', testsize, 'is' , '\\n', report)\n",
    "    print( 'auc for  testsize', 'is' , '\\n', auc)\n",
    "    plt.show()\n",
    "    #print('plot for testsize ', testsize, dtplot)\n",
    "    y_pred2 = dt.predict(x_train)    \n",
    "    confusion_2 = confusion_matrix(y_train,y_pred2)\n",
    "    report_2 =  classification_report(y_train,y_pred2)\n",
    "    auc_2 = roc_auc_score(y_train,y_pred2)\n",
    "    fpr_2, tpr_2, _ = roc_curve(y_train,y_pred2)\n",
    "    dtplot_2 = plt.plot(fpr_2,tpr_2,label=\"DT Curve\")\n",
    "    plt.xlabel(\"FPR\")\n",
    "    plt.ylabel(\"TPR\")\n",
    "    plt.legend(loc=4)\n",
    "    print()\n",
    "    print( 'confusion matrix for testsize ', testsize, 'is' , '\\n' ,confusion_2)\n",
    "    print( 'classification report for testsize ', testsize, 'is' , '\\n', report_2)\n",
    "    print( 'auc for testsize ', testsize, 'is' , '\\n', auc_2)\n",
    "    plt.show()\n",
    "    #print('plot for testsize ', testsize, dtplot_2)\n"
   ]
  },
  {
   "cell_type": "markdown",
   "metadata": {},
   "source": [
    "Using for loop for test sizes of 0.05,0.1,0.15,0.2 we have created models. And also calculated the metrics of decision tree classifier, which are confusion matrix, precision, recall, f1-score, support, AUC, and ROC curve. Each have its own significance in determining the best model. Using matplotlib we have plotted roc curve by FPR and TPR."
   ]
  },
  {
   "cell_type": "markdown",
   "metadata": {},
   "source": [
    "4- Explain your results shown in step #3."
   ]
  },
  {
   "cell_type": "markdown",
   "metadata": {},
   "source": [
    "Rather than comparing each metric to determine the best model, we use ROC curve to do that. ROC curve is plotted using FPR and TPR. \n",
    "\n",
    "False Positive Rate(FPR) is the proportions of samples which are incorrectly classified\n",
    "True Positive Rate(TPR) is the proportion of the samples which are correctly classified\n",
    "\n",
    "AUC is Area Under the Curve which is the area under thee ROC curve. The higher the AUC, the better the model.\n",
    "\n",
    "ROC is Reciever Operating Characteristic. It summarizes all the confusion matrices that each threshold produced. Threshold is like best fit horizantal line. In the plot of feature variables on x axis and target variable (1 or 0) on y axis. This horizantal line divides the curve, which ever feature variables falls above the line is 1 and below the line is 0. Between 0 and 1 there are so many probabilities. Using these we calculate confusion matrices for all probabilites. From these different matrices we calculate FPR & TPR and plot the ROC.\n",
    "\n",
    "So, from all these curves for the testsize 0.2 has higher AUC value 0.854. This is the ROC curve of y_test and y_pred. So, this is the best decision tree classifier model for this problem.\n",
    "\n",
    "On a final note the model which gives best results is when the train: test split is 80:20 and the DT paramaters max_depth:3, max_leaf_nodes:15, and min_sample_leaf:10."
   ]
  },
  {
   "cell_type": "markdown",
   "metadata": {},
   "source": [
    "5- Is it required to scale the data for the Decision Trees model, why?\n",
    "\n"
   ]
  },
  {
   "cell_type": "markdown",
   "metadata": {},
   "source": [
    "Generally, we use the method of scaling to reduce the magnitude difference between the features for the models which use eucladean distance to predict best fit line.\n",
    "\n",
    "But, in Decision tree classifier we don't use eucladean to detern-mine the best fit line. We have other parameters for that like max_depth, max_leaf_nodes,min_sample_leaf,min_sample_split etc.  A node of a tree partitions the data into two sets by comparing a feature (which splits dataset best) to a threshold value. There's no regularization for the threshold (because one should keep height of the tree small), so it's not affected by different scales. Even if we do scaling it makes no difference in accuracies.\n",
    "\n",
    "It is required when we are comparing multiple models, like if we are comparing decision tree with SVC. Then we will have to scale the data, since SVC is done through eucledean distance method."
   ]
  },
  {
   "cell_type": "code",
   "execution_count": null,
   "metadata": {},
   "outputs": [],
   "source": []
  }
 ],
 "metadata": {
  "kernelspec": {
   "display_name": "Python 3",
   "language": "python",
   "name": "python3"
  },
  "language_info": {
   "codemirror_mode": {
    "name": "ipython",
    "version": 3
   },
   "file_extension": ".py",
   "mimetype": "text/x-python",
   "name": "python",
   "nbconvert_exporter": "python",
   "pygments_lexer": "ipython3",
   "version": "3.7.9"
  }
 },
 "nbformat": 4,
 "nbformat_minor": 4
}
